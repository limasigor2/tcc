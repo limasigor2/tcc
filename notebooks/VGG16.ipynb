{
 "cells": [
  {
   "cell_type": "code",
   "execution_count": 7,
   "metadata": {},
   "outputs": [
    {
     "name": "stderr",
     "output_type": "stream",
     "text": [
      "/home/igor/anaconda3/lib/python3.6/site-packages/matplotlib/font_manager.py:281: UserWarning: Matplotlib is building the font cache using fc-list. This may take a moment.\n",
      "  'Matplotlib is building the font cache using fc-list. '\n"
     ]
    }
   ],
   "source": [
    "%matplotlib inline\n",
    "import numpy as np\n",
    "import pandas as pd\n",
    "import matplotlib.pyplot as plt\n",
    "import keras\n",
    "from keras import backend as K\n",
    "from keras.models import Sequential, Model\n",
    "from keras.layers import Dense, Activation, Flatten, Lambda, Conv2D\n",
    "from keras.layers import GlobalAveragePooling2D, Input, Dropout\n",
    "from keras.layers.convolutional import MaxPooling2D\n",
    "from keras.models import Model, load_model\n",
    "from keras.preprocessing import image\n",
    "\n",
    "from keras.optimizers import Adam, RMSprop, SGD\n",
    "import urllib\n",
    "from os.path import join\n",
    "from sklearn import model_selection\n",
    "from sklearn import metrics"
   ]
  },
  {
   "cell_type": "code",
   "execution_count": 2,
   "metadata": {},
   "outputs": [],
   "source": [
    "path = '/home/igor/projetos/tcc-1/input/'\n",
    "model_path = path + 'vgg16_weights_tf_dim_ordering_tf_kernels.h5'\n",
    "target_size = (224,224)\n",
    "NUM_CLASSES = 10\n",
    "INPUT_SIZE = 224\n",
    "BATCH_SIZE = 12\n",
    "EPOCHS = 10\n",
    "SEED = 1998"
   ]
  },
  {
   "cell_type": "code",
   "execution_count": 3,
   "metadata": {},
   "outputs": [],
   "source": [
    "def preprocess_img(img):\n",
    "    vgg_mean = np.array([123.68, 116.779, 103.939], dtype=(np.float32))\n",
    "    img = (img - vgg_mean)\n",
    "    return img[:, ::-1] # BGR"
   ]
  },
  {
   "cell_type": "markdown",
   "metadata": {},
   "source": [
    "### Criando modelo"
   ]
  },
  {
   "cell_type": "code",
   "execution_count": 4,
   "metadata": {},
   "outputs": [],
   "source": [
    "def create_vgg16(x=None):\n",
    "    model = Sequential()\n",
    "    \n",
    "    # layer to preprocess images\n",
    "    model.add(Lambda(preprocess_img, input_shape=(224,224,3), output_shape=(224,224,3)))\n",
    "    #Conv2D(64, kernel_size=(3,3), input_shape=(224,224,3), activation='relu', padding='same')\n",
    "    # conv block 1\n",
    "    model.add(Conv2D(64, kernel_size=(3,3), input_shape=(224,224,3), activation='relu', padding='same'))\n",
    "    model.add(Conv2D(64, kernel_size=(3,3), activation='relu', padding='same'))\n",
    "    model.add(MaxPooling2D(pool_size=(2,2), strides=(2,2)))\n",
    "    \n",
    "    # conv block 2\n",
    "    model.add(Conv2D(128, kernel_size=(3,3), activation='relu', padding='same'))\n",
    "    model.add(Conv2D(128, kernel_size=(3,3), activation='relu', padding='same'))\n",
    "    model.add(MaxPooling2D(pool_size=(2,2), strides=(2,2)))\n",
    "    \n",
    "    # conv block 3\n",
    "    model.add(Conv2D(256, kernel_size=(3,3), activation='relu', padding='same'))\n",
    "    model.add(Conv2D(256, kernel_size=(3,3), activation='relu', padding='same'))\n",
    "    model.add(Conv2D(256, kernel_size=(3,3), activation='relu', padding='same'))\n",
    "    model.add(MaxPooling2D(pool_size=(2,2), strides=(2,2)))\n",
    "    \n",
    "    # conv block 4\n",
    "    model.add(Conv2D(512, kernel_size=(3,3), activation='relu', padding='same'))\n",
    "    model.add(Conv2D(512, kernel_size=(3,3), activation='relu', padding='same'))\n",
    "    model.add(Conv2D(512, kernel_size=(3,3), activation='relu', padding='same'))\n",
    "    model.add(MaxPooling2D(pool_size=(2,2), strides=(2,2)))\n",
    "    \n",
    "    # conv block 5\n",
    "    model.add(Conv2D(512, kernel_size=(3,3), activation='relu', padding='same'))\n",
    "    model.add(Conv2D(512, kernel_size=(3,3), activation='relu', padding='same'))\n",
    "    model.add(Conv2D(512, kernel_size=(3,3), activation='relu', padding='same'))\n",
    "    model.add(MaxPooling2D(pool_size=(2,2), strides=(2,2)))\n",
    "    \n",
    "    # Fully Connected\n",
    "    model.add(Flatten())\n",
    "    model.add(Dense(4096, activation='relu'))\n",
    "    model.add(Dense(4096, activation='relu'))\n",
    "    model.add(Dense(1000, activation='softmax'))\n",
    "    \n",
    "    return model"
   ]
  },
  {
   "cell_type": "markdown",
   "metadata": {},
   "source": [
    "### Preparando Input"
   ]
  },
  {
   "cell_type": "code",
   "execution_count": 5,
   "metadata": {},
   "outputs": [],
   "source": [
    "def read_img(img_id, train_or_test, size):\n",
    "    \"\"\"Read and resize image.\n",
    "    # Arguments\n",
    "        img_id: string\n",
    "        train_or_test: string 'train' or 'test'.\n",
    "        size: resize the original image.\n",
    "    # Returns\n",
    "        Image as numpy array.\n",
    "    \"\"\"\n",
    "    img = image.load_img(join(path, train_or_test, '%s.jpg' % img_id), target_size=size)\n",
    "    img = image.img_to_array(img)\n",
    "    return img"
   ]
  },
  {
   "cell_type": "code",
   "execution_count": 6,
   "metadata": {},
   "outputs": [],
   "source": [
    "labels = pd.read_csv('../input/labels.csv')\n",
    "submissao = pd.read_csv('../input/sample_submission.csv')"
   ]
  },
  {
   "cell_type": "code",
   "execution_count": 7,
   "metadata": {},
   "outputs": [
    {
     "name": "stdout",
     "output_type": "stream",
     "text": [
      "10222\n",
      "10357\n"
     ]
    }
   ],
   "source": [
    "print(labels.shape[0])\n",
    "print(submissao.shape[0])"
   ]
  },
  {
   "cell_type": "code",
   "execution_count": 8,
   "metadata": {},
   "outputs": [
    {
     "data": {
      "text/plain": [
       "['scottish_deerhound',\n",
       " 'maltese_dog',\n",
       " 'afghan_hound',\n",
       " 'entlebucher',\n",
       " 'bernese_mountain_dog',\n",
       " 'shih-tzu',\n",
       " 'great_pyrenees',\n",
       " 'pomeranian',\n",
       " 'basenji',\n",
       " 'samoyed']"
      ]
     },
     "execution_count": 8,
     "metadata": {},
     "output_type": "execute_result"
    }
   ],
   "source": [
    "selected_breeds = list(labels.groupby('breed').count().sort_values(by='id', ascending=False).head(NUM_CLASSES).index)\n",
    "selected_breeds"
   ]
  },
  {
   "cell_type": "code",
   "execution_count": 9,
   "metadata": {},
   "outputs": [],
   "source": [
    "labels = labels[labels['breed'].isin(selected_breeds)]"
   ]
  },
  {
   "cell_type": "code",
   "execution_count": 10,
   "metadata": {},
   "outputs": [],
   "source": [
    "labels['value'] = 0\n",
    "# labels['rank'] = labels.groupby('breed').rank()['id']"
   ]
  },
  {
   "cell_type": "code",
   "execution_count": 11,
   "metadata": {
    "scrolled": false
   },
   "outputs": [],
   "source": [
    "labels_pivot = labels.pivot(index='id', columns='breed', values='value').reset_index().fillna(0)\n",
    "labels_pivot = labels_pivot.set_index('id')"
   ]
  },
  {
   "cell_type": "code",
   "execution_count": 12,
   "metadata": {},
   "outputs": [],
   "source": [
    "train_data = []\n",
    "target = pd.DataFrame(columns=selected_breeds)"
   ]
  },
  {
   "cell_type": "code",
   "execution_count": 13,
   "metadata": {},
   "outputs": [],
   "source": [
    "for x in labels.values:\n",
    "    train_data.append(read_img(x[0], 'train', (224,224)))\n",
    "    target.loc[target.shape[0]] = [0,0,0,0,0,0,0,0,0,0]  \n",
    "    target.loc[target.shape[0]-1][str(x[1])] = 1"
   ]
  },
  {
   "cell_type": "code",
   "execution_count": 14,
   "metadata": {},
   "outputs": [],
   "source": [
    "initial_model = create_vgg16()\n",
    "initial_model.load_weights(model_path)\n",
    "\n",
    "# Truncate and replace softmax layer for transfer learning\n",
    "x = Dense(10, activation='softmax')(initial_model.layers[-2].output)\n",
    "model = Model(initial_model.input, x)\n",
    "\n",
    "\n",
    "for layer in model.layers[:10]:\n",
    "    layer.trainable = False\n",
    "for layer in model.layers[10:]:\n",
    "    layer.trainable = True\n",
    "    \n",
    "opt = SGD(lr=10e-5)\n",
    "model.compile(optimizer=opt,\n",
    "              loss='categorical_crossentropy', \n",
    "              metrics=['accuracy'])"
   ]
  },
  {
   "cell_type": "code",
   "execution_count": 15,
   "metadata": {},
   "outputs": [],
   "source": [
    "X_train, X_test, y_train, y_test = model_selection.train_test_split(np.array(train_data),np.array(target),test_size=0.33, random_state=42)"
   ]
  },
  {
   "cell_type": "code",
   "execution_count": 16,
   "metadata": {},
   "outputs": [],
   "source": [
    "del train_data\n",
    "del target"
   ]
  },
  {
   "cell_type": "code",
   "execution_count": 45,
   "metadata": {},
   "outputs": [
    {
     "name": "stdout",
     "output_type": "stream",
     "text": [
      "<keras.engine.training.Model object at 0x7fdf579b2198>\n"
     ]
    }
   ],
   "source": [
    "print(model)"
   ]
  },
  {
   "cell_type": "code",
   "execution_count": 17,
   "metadata": {
    "scrolled": false
   },
   "outputs": [
    {
     "name": "stdout",
     "output_type": "stream",
     "text": [
      "Epoch 1/10\n",
      "764/764 [==============================] - 879s 1s/step - loss: 2.4458 - acc: 0.2068\n",
      "Epoch 2/10\n",
      "764/764 [==============================] - 877s 1s/step - loss: 1.3136 - acc: 0.5877\n",
      "Epoch 3/10\n",
      "764/764 [==============================] - 878s 1s/step - loss: 0.7288 - acc: 0.7827\n",
      "Epoch 4/10\n",
      "764/764 [==============================] - 877s 1s/step - loss: 0.3948 - acc: 0.9058\n",
      "Epoch 5/10\n",
      "764/764 [==============================] - 877s 1s/step - loss: 0.2060 - acc: 0.9686\n",
      "Epoch 6/10\n",
      "764/764 [==============================] - 878s 1s/step - loss: 0.1137 - acc: 0.9921\n",
      "Epoch 7/10\n",
      "764/764 [==============================] - 878s 1s/step - loss: 0.0691 - acc: 0.9974\n",
      "Epoch 8/10\n",
      "764/764 [==============================] - 878s 1s/step - loss: 0.0460 - acc: 0.9987\n",
      "Epoch 9/10\n",
      "764/764 [==============================] - 877s 1s/step - loss: 0.0336 - acc: 1.0000\n",
      "Epoch 10/10\n",
      "764/764 [==============================] - 878s 1s/step - loss: 0.0258 - acc: 1.0000\n"
     ]
    },
    {
     "data": {
      "text/plain": [
       "<keras.callbacks.History at 0x7fdf579cbf28>"
      ]
     },
     "execution_count": 17,
     "metadata": {},
     "output_type": "execute_result"
    }
   ],
   "source": [
    "model.fit(X_train, y=y_train,batch_size=BATCH_SIZE, epochs=EPOCHS, n)"
   ]
  },
  {
   "cell_type": "code",
   "execution_count": 4,
   "metadata": {},
   "outputs": [],
   "source": [
    "loss = [2.4458, 1.3136, 0.7288, 0.3948, 0.2060, 0.1137, 0.0691, 0.0460, 0.0336, 0.0258]\n",
    "acc = [0.2068, 0.5877, 0.7827, 0.9058, 0.9686, 0.9921, 0.9974, 0.9987, 1.0000, 1.0000]\n",
    "epocs = [1,2,3,4,5,6,7,8,9,10]"
   ]
  },
  {
   "cell_type": "code",
   "execution_count": 40,
   "metadata": {},
   "outputs": [
    {
     "data": {
      "image/png": "[encoded data removed]",
      "text/plain": [
       "<matplotlib.figure.Figure at 0x7f5279bc7048>"
      ]
     },
     "metadata": {},
     "output_type": "display_data"
    }
   ],
   "source": [
    "plt.subplot(2, 1, 1)\n",
    "plt.plot(loss, label=\"log loss\")\n",
    "plt.plot(acc, label=\"acurácia\")\n",
    "plt.legend()\n",
    "plt.show()\n"
   ]
  },
  {
   "cell_type": "code",
   "execution_count": 18,
   "metadata": {},
   "outputs": [],
   "source": [
    "del X_train\n",
    "del y_train"
   ]
  },
  {
   "cell_type": "code",
   "execution_count": 19,
   "metadata": {},
   "outputs": [],
   "source": [
    "y_pred = model.predict(X_test, batch_size=BATCH_SIZE)"
   ]
  },
  {
   "cell_type": "code",
   "execution_count": 22,
   "metadata": {},
   "outputs": [
    {
     "data": {
      "text/plain": [
       "array([4.8765537e-04, 1.6246334e-02, 1.8485880e-01, 3.4740189e-04,\n",
       "       2.4410723e-04, 3.2999390e-01, 4.5962682e-01, 6.5532178e-03,\n",
       "       8.8648585e-04, 7.5520278e-04], dtype=float32)"
      ]
     },
     "execution_count": 22,
     "metadata": {},
     "output_type": "execute_result"
    }
   ],
   "source": [
    "y_pred[0]"
   ]
  },
  {
   "cell_type": "code",
   "execution_count": null,
   "metadata": {},
   "outputs": [],
   "source": []
  },
  {
   "cell_type": "code",
   "execution_count": 4,
   "metadata": {},
   "outputs": [],
   "source": [
    "import types\n",
    "import tempfile\n",
    "\n",
    "def make_keras_picklable():\n",
    "    def __getstate__(self):\n",
    "        model_str = \"\"\n",
    "        with tempfile.NamedTemporaryFile(suffix='.hdf5', delete=True) as fd:\n",
    "            keras.models.save_model(self, fd.name, overwrite=True)\n",
    "            model_str = fd.read()\n",
    "        d = { 'model_str': model_str }\n",
    "        return d\n",
    "\n",
    "    def __setstate__(self, state):\n",
    "        with tempfile.NamedTemporaryFile(suffix='.hdf5', delete=True) as fd:\n",
    "            fd.write(state['model_str'])\n",
    "            fd.flush()\n",
    "            model = keras.models.load_model(fd.name)\n",
    "        self.__dict__ = model.__dict__\n",
    "\n",
    "\n",
    "    cls = keras.models.Model\n",
    "    cls.__getstate__ = __getstate__\n",
    "    cls.__setstate__ = __setstate__"
   ]
  },
  {
   "cell_type": "code",
   "execution_count": 5,
   "metadata": {
    "scrolled": true
   },
   "outputs": [],
   "source": [
    "make_keras_picklable()"
   ]
  },
  {
   "cell_type": "code",
   "execution_count": 12,
   "metadata": {},
   "outputs": [],
   "source": [
    "# with open('classifier.pickle', 'rb') as handle: \n",
    "#     classifier = pickle.load(handle)"
   ]
  },
  {
   "cell_type": "code",
   "execution_count": 55,
   "metadata": {},
   "outputs": [
    {
     "data": {
      "text/plain": [
       "array([[4.8765537e-04, 1.6246334e-02, 1.8485880e-01, ..., 6.5532178e-03,\n",
       "        8.8648585e-04, 7.5520278e-04],\n",
       "       [1.6648816e-07, 4.5358016e-07, 2.1721857e-05, ..., 7.4125978e-06,\n",
       "        9.0927424e-05, 6.0802449e-07],\n",
       "       [9.1423148e-01, 1.2964060e-03, 2.1838594e-02, ..., 4.4866027e-03,\n",
       "        1.5532954e-03, 8.9722680e-04],\n",
       "       ...,\n",
       "       [1.4557450e-05, 7.3999976e-04, 1.0590589e-05, ..., 5.5830336e-05,\n",
       "        6.9289654e-03, 6.1052160e-06],\n",
       "       [9.9844247e-01, 1.7100225e-05, 1.1588786e-03, ..., 2.4987914e-04,\n",
       "        4.6837818e-06, 4.1870371e-05],\n",
       "       [3.0586693e-09, 1.1619391e-09, 1.1826218e-04, ..., 1.2240216e-09,\n",
       "        1.2725008e-07, 1.6476949e-07]], dtype=float32)"
      ]
     },
     "execution_count": 55,
     "metadata": {},
     "output_type": "execute_result"
    }
   ],
   "source": [
    "classifier.predict(X_test, batch_size=BATCH_SIZE)"
   ]
  }
 ],
 "metadata": {
  "kernelspec": {
   "display_name": "Python 3",
   "language": "python",
   "name": "python3"
  },
  "language_info": {
   "codemirror_mode": {
    "name": "ipython",
    "version": 3
   },
   "file_extension": ".py",
   "mimetype": "text/x-python",
   "name": "python",
   "nbconvert_exporter": "python",
   "pygments_lexer": "ipython3",
   "version": "3.6.5"
  }
 },
 "nbformat": 4,
 "nbformat_minor": 2
}
